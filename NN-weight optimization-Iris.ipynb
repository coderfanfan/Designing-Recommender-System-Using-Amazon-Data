{
 "cells": [
  {
   "cell_type": "code",
   "execution_count": null,
   "metadata": {},
   "outputs": [],
   "source": [
    "import mlrose2 as mlrose\n",
    "import numpy as np\n",
    "import pandas as pd\n",
    "import matplotlib.pyplot as plt\n",
    "import seaborn as sns\n",
    "from sklearn.metrics import f1_score\n",
    "from sklearn.metrics import log_loss\n",
    "from sklearn import metrics\n",
    "from sklearn.model_selection import cross_validate\n",
    "from sklearn.model_selection import StratifiedKFold\n",
    "from sklearn.model_selection import train_test_split\n",
    "from sklearn.model_selection import learning_curve\n",
    "from sklearn.preprocessing import MinMaxScaler, OneHotEncoder\n",
    "from sklearn.neural_network import MLPClassifier\n",
    "import time"
   ]
  },
  {
   "cell_type": "markdown",
   "metadata": {},
   "source": [
    "## Data Preparation"
   ]
  },
  {
   "cell_type": "code",
   "execution_count": 3,
   "metadata": {},
   "outputs": [],
   "source": [
    "from sklearn.datasets import load_iris\n",
    "\n",
    "# Load the Iris dataset\n",
    "data = load_iris()\n",
    "\n",
    "#Spliting data into training, testing set \n",
    "np.random.seed(0)\n",
    "Xtrain, Xtest, Ytrain, Ytest = train_test_split(data.data, data.target, test_size = 0.2, random_state=999)\n",
    "\n",
    "# One hot encode target values\n",
    "one_hot = OneHotEncoder(categories='auto')\n",
    "\n",
    "Ytrain = one_hot.fit_transform(Ytrain.reshape(-1, 1)).todense()\n",
    "Ytest = one_hot.fit_transform(Ytest.reshape(-1, 1)).todense()"
   ]
  },
  {
   "cell_type": "code",
   "execution_count": 4,
   "metadata": {},
   "outputs": [],
   "source": [
    "Xtrain = np.array(Xtrain)\n",
    "Xtest = np.array(Xtest)"
   ]
  },
  {
   "cell_type": "code",
   "execution_count": 4,
   "metadata": {},
   "outputs": [
    {
     "data": {
      "text/plain": [
       "4"
      ]
     },
     "execution_count": 4,
     "metadata": {},
     "output_type": "execute_result"
    }
   ],
   "source": [
    "len(Xtrain[1])"
   ]
  },
  {
   "cell_type": "code",
   "execution_count": 5,
   "metadata": {},
   "outputs": [
    {
     "data": {
      "text/plain": [
       "120"
      ]
     },
     "execution_count": 5,
     "metadata": {},
     "output_type": "execute_result"
    }
   ],
   "source": [
    "len(Xtrain)"
   ]
  },
  {
   "cell_type": "markdown",
   "metadata": {},
   "source": [
    "## Backpropagation"
   ]
  },
  {
   "cell_type": "code",
   "execution_count": 12,
   "metadata": {},
   "outputs": [
    {
     "name": "stdout",
     "output_type": "stream",
     "text": [
      "--- 0.0953519344329834 seconds ---\n"
     ]
    }
   ],
   "source": [
    "start = time.time()\n",
    "clf = MLPClassifier(solver='lbfgs', alpha=1e-5,\n",
    "                    hidden_layer_sizes=(20), random_state=1, max_iter=200)\n",
    "clf.fit(Xtrain, Ytrain)\n",
    "\n",
    "end = time.time()\n",
    "print(\"--- %s seconds ---\" % (end - start))"
   ]
  },
  {
   "cell_type": "code",
   "execution_count": 13,
   "metadata": {},
   "outputs": [
    {
     "name": "stdout",
     "output_type": "stream",
     "text": [
      "--- Train F1: 1.0 ---\n",
      "--- Test F1: 0.9563636363636364 ---\n"
     ]
    }
   ],
   "source": [
    "# Predict labels for train set and assess accuracy\n",
    "Ytrain_pred = clf.predict(Xtrain)\n",
    "\n",
    "Ytrain_f1 = f1_score(Ytrain, Ytrain_pred, average='macro')\n",
    "\n",
    "print(\"--- Train F1: %s ---\" % Ytrain_f1)\n",
    "\n",
    "# Predict labels for test set and assess accuracy\n",
    "Ytest_pred = clf.predict(Xtest)\n",
    "\n",
    "Ytest_f1 = f1_score(Ytest, Ytest_pred, average='macro')\n",
    "\n",
    "print(\"--- Test F1: %s ---\" % Ytest_f1)"
   ]
  },
  {
   "cell_type": "markdown",
   "metadata": {},
   "source": [
    "## Randomized hill climbing"
   ]
  },
  {
   "cell_type": "code",
   "execution_count": 14,
   "metadata": {},
   "outputs": [
    {
     "name": "stdout",
     "output_type": "stream",
     "text": [
      "--- 23.726542711257935 seconds ---\n"
     ]
    }
   ],
   "source": [
    "# Initialize neural network object and fit object\n",
    "start = time.time()\n",
    "np.random.seed(3)\n",
    "max_iters = 10000\n",
    "\n",
    "nn_model1 = mlrose.NeuralNetwork(hidden_nodes = [20], activation = 'tanh', \\\n",
    "                                 algorithm = 'random_hill_climb', max_iters = max_iters, \\\n",
    "                                 bias = True, is_classifier = True, learning_rate = 0.1, \\\n",
    "                                 early_stopping = True, clip_max = 5, max_attempts = 100)\n",
    "\n",
    "nn_model1.fit(Xtrain, Ytrain)\n",
    "end = time.time()\n",
    "print(\"--- %s seconds ---\" % (end - start))"
   ]
  },
  {
   "cell_type": "code",
   "execution_count": 15,
   "metadata": {
    "scrolled": true
   },
   "outputs": [
    {
     "name": "stdout",
     "output_type": "stream",
     "text": [
      "--- Train F1: 1.0 ---\n",
      "--- Test F1: 0.9563636363636364 ---\n"
     ]
    }
   ],
   "source": [
    "# Predict labels for train set and assess accuracy\n",
    "Ytrain_pred = nn_model1.predict(Xtrain)\n",
    "\n",
    "Ytrain_f1 = f1_score(Ytrain, Ytrain_pred, average='macro')\n",
    "\n",
    "print(\"--- Train F1: %s ---\" % Ytrain_f1)\n",
    "\n",
    "# Predict labels for test set and assess accuracy\n",
    "Ytest_pred = nn_model1.predict(Xtest)\n",
    "\n",
    "Ytest_f1 = f1_score(Ytest, Ytest_pred, average='macro')\n",
    "\n",
    "print(\"--- Test F1: %s ---\" % Ytest_f1)"
   ]
  },
  {
   "cell_type": "code",
   "execution_count": 17,
   "metadata": {},
   "outputs": [
    {
     "data": {
      "image/png": "[encoded data removed]",
      "text/plain": [
       "<matplotlib.figure.Figure at 0x7f1ed2885240>"
      ]
     },
     "metadata": {},
     "output_type": "display_data"
    }
   ],
   "source": [
    "# loss change with number of iterations \n",
    "pd.DataFrame(nn_model1.current_best_loss).to_csv(\"nn_iris_randomized_hill_climb_{}iter_loss.csv\".format(max_iters))\n",
    "plt.plot(range(1, max_iters+1), nn_model1.current_best_loss, color = 'blue')\n",
    "plt.xlabel(\"number of iteration\")\n",
    "plt.ylabel(\"log loss\")\n",
    "plt.title(\"Fitness improving with more iterations\")\n",
    "plt.show()"
   ]
  },
  {
   "cell_type": "code",
   "execution_count": 18,
   "metadata": {},
   "outputs": [
    {
     "name": "stdout",
     "output_type": "stream",
     "text": [
      "--- Number of weight: 160 ---\n",
      "--- Min fitted weight: -4.279309854542171 ---\n",
      "--- Max fitted weight: 3.9602495804986337 ---\n",
      "--- Mean fitted weight: 0.0322324850250591 ---\n"
     ]
    }
   ],
   "source": [
    "# best weight\n",
    "print(\"--- Number of weight: %s ---\" % len(nn_model1.fitted_weights))\n",
    "print(\"--- Min fitted weight: %s ---\" % min(nn_model1.fitted_weights))\n",
    "print(\"--- Max fitted weight: %s ---\" % max(nn_model1.fitted_weights))\n",
    "print(\"--- Mean fitted weight: %s ---\" % (sum(nn_model1.fitted_weights)/len(nn_model1.fitted_weights)))"
   ]
  },
  {
   "cell_type": "code",
   "execution_count": 19,
   "metadata": {},
   "outputs": [
    {
     "data": {
      "image/png": "[encoded data removed]",
      "text/plain": [
       "<matplotlib.figure.Figure at 0x7f1e9fda1ac8>"
      ]
     },
     "metadata": {},
     "output_type": "display_data"
    }
   ],
   "source": [
    "plt.hist(nn_model1.fitted_weights, color = 'lightblue', edgecolor = 'black')\n",
    "plt.ylabel(\"number of weights\")\n",
    "plt.title('Distribution of the learned weights')\n",
    "plt.show()"
   ]
  },
  {
   "cell_type": "markdown",
   "metadata": {},
   "source": [
    "## simulated annealing"
   ]
  },
  {
   "cell_type": "code",
   "execution_count": 20,
   "metadata": {},
   "outputs": [
    {
     "name": "stdout",
     "output_type": "stream",
     "text": [
      "--- 35.42280554771423 seconds ---\n"
     ]
    }
   ],
   "source": [
    "start = time.time()\n",
    "# Initialize neural network object and fit object\n",
    "np.random.seed(3)\n",
    "max_iters = 10000\n",
    "\n",
    "nn_model2 = mlrose.NeuralNetwork(hidden_nodes = [20], activation = 'tanh', \\\n",
    "                                 algorithm = 'simulated_annealing', schedule=mlrose.GeomDecay(init_temp=10000, decay=0.95, min_temp=0.01),\\\n",
    "                                 max_iters = max_iters, \\\n",
    "                                 bias = True, is_classifier = True, learning_rate = 0.1, \\\n",
    "                                 early_stopping = True, clip_max = 5, max_attempts = 100)\n",
    "\n",
    "nn_model2.fit(Xtrain, Ytrain)\n",
    "end = time.time()\n",
    "print(\"--- %s seconds ---\" % (end - start))"
   ]
  },
  {
   "cell_type": "code",
   "execution_count": 21,
   "metadata": {},
   "outputs": [
    {
     "name": "stdout",
     "output_type": "stream",
     "text": [
      "--- Train F1: 0.9339774557165862 ---\n",
      "--- Test F1: 0.8857142857142857 ---\n"
     ]
    }
   ],
   "source": [
    "# Predict labels for train set and assess accuracy\n",
    "Ytrain_pred = nn_model2.predict(Xtrain)\n",
    "\n",
    "Ytrain_f1 = f1_score(Ytrain, Ytrain_pred, average='macro')\n",
    "\n",
    "print(\"--- Train F1: %s ---\" % Ytrain_f1)\n",
    "\n",
    "# Predict labels for test set and assess accuracy\n",
    "Ytest_pred = nn_model2.predict(Xtest)\n",
    "\n",
    "Ytest_f1 = f1_score(Ytest, Ytest_pred, average='macro')\n",
    "\n",
    "print(\"--- Test F1: %s ---\" % Ytest_f1)"
   ]
  },
  {
   "cell_type": "code",
   "execution_count": 22,
   "metadata": {},
   "outputs": [
    {
     "data": {
      "image/png": "[encoded data removed]",
      "text/plain": [
       "<matplotlib.figure.Figure at 0x7f1e9f9d5f60>"
      ]
     },
     "metadata": {},
     "output_type": "display_data"
    }
   ],
   "source": [
    "# loss change with number of iterations \n",
    "pd.DataFrame(nn_model2.current_best_loss).to_csv(\"nn_iris_simulated_annealing_{}iter_loss.csv\".format(max_iters))\n",
    "plt.plot(range(1, max_iters+1), nn_model2.current_best_loss, color = 'blue')\n",
    "plt.xlabel(\"number of iteration\")\n",
    "plt.ylabel(\"log loss\")\n",
    "plt.title(\"Fitness improving with more iterations\")\n",
    "plt.show()"
   ]
  },
  {
   "cell_type": "code",
   "execution_count": 23,
   "metadata": {},
   "outputs": [
    {
     "name": "stdout",
     "output_type": "stream",
     "text": [
      "--- Number of weight: 160 ---\n",
      "--- Min fitted weight: -2.452752661561286 ---\n",
      "--- Max fitted weight: 2.282839238062297 ---\n",
      "--- Mean fitted weight: -0.06526751497494092 ---\n"
     ]
    }
   ],
   "source": [
    "# best weight\n",
    "print(\"--- Number of weight: %s ---\" % len(nn_model2.fitted_weights))\n",
    "print(\"--- Min fitted weight: %s ---\" % min(nn_model2.fitted_weights))\n",
    "print(\"--- Max fitted weight: %s ---\" % max(nn_model2.fitted_weights))\n",
    "print(\"--- Mean fitted weight: %s ---\" % (sum(nn_model2.fitted_weights)/len(nn_model2.fitted_weights)))"
   ]
  },
  {
   "cell_type": "code",
   "execution_count": 24,
   "metadata": {},
   "outputs": [
    {
     "data": {
      "image/png": "[encoded data removed]",
      "text/plain": [
       "<matplotlib.figure.Figure at 0x7f1e9f8f4668>"
      ]
     },
     "metadata": {},
     "output_type": "display_data"
    }
   ],
   "source": [
    "plt.hist(nn_model2.fitted_weights, color = 'lightblue', edgecolor = 'black')\n",
    "plt.xlabel(\"weight\")\n",
    "plt.ylabel(\"number of weights\")\n",
    "plt.title('Distribution of the learned weights')\n",
    "plt.show()"
   ]
  },
  {
   "cell_type": "markdown",
   "metadata": {},
   "source": [
    "## genetic algorithm"
   ]
  },
  {
   "cell_type": "code",
   "execution_count": 29,
   "metadata": {},
   "outputs": [
    {
     "name": "stdout",
     "output_type": "stream",
     "text": [
      "--- 3924.8787126541138 seconds ---\n"
     ]
    }
   ],
   "source": [
    "start = time.time()\n",
    "# Initialize neural network object and fit object\n",
    "np.random.seed(3)\n",
    "max_iters = 10000\n",
    "\n",
    "nn_model3 = mlrose.NeuralNetwork(hidden_nodes = [20], activation = 'tanh', \\\n",
    "                                 algorithm = 'genetic_alg', pop_size = 200, mutation_prob = 0.1, max_iters = max_iters, \\\n",
    "                                 bias = True, is_classifier = True, learning_rate = 0.1, \\\n",
    "                                 early_stopping = False, clip_max = 5, max_attempts = 100)\n",
    "\n",
    "nn_model3.fit(Xtrain, Ytrain)\n",
    "end = time.time()\n",
    "print(\"--- %s seconds ---\" % (end - start))"
   ]
  },
  {
   "cell_type": "code",
   "execution_count": 30,
   "metadata": {},
   "outputs": [
    {
     "name": "stdout",
     "output_type": "stream",
     "text": [
      "--- Train F1: 1.0 ---\n",
      "--- Test F1: 0.9563636363636364 ---\n"
     ]
    }
   ],
   "source": [
    "# Predict labels for train set and assess accuracy\n",
    "Ytrain_pred = nn_model3.predict(Xtrain)\n",
    "\n",
    "Ytrain_f1 = f1_score(Ytrain, Ytrain_pred, average='macro')\n",
    "\n",
    "print(\"--- Train F1: %s ---\" % Ytrain_f1)\n",
    "\n",
    "# Predict labels for test set and assess accuracy\n",
    "Ytest_pred = nn_model3.predict(Xtest)\n",
    "\n",
    "Ytest_f1 = f1_score(Ytest, Ytest_pred, average='macro')\n",
    "\n",
    "print(\"--- Test F1: %s ---\" % Ytest_f1)"
   ]
  },
  {
   "cell_type": "code",
   "execution_count": 31,
   "metadata": {},
   "outputs": [
    {
     "data": {
      "image/png": "[encoded data removed]",
      "text/plain": [
       "<matplotlib.figure.Figure at 0x7f1e9f7255c0>"
      ]
     },
     "metadata": {},
     "output_type": "display_data"
    }
   ],
   "source": [
    "# loss change with number of iterations \n",
    "pd.DataFrame(nn_model3.current_best_loss).to_csv(\"nn_iris_GA_{}iter_current_best_loss.csv\".format(max_iters))\n",
    "plt.plot(range(1, max_iters+1), nn_model3.current_best_loss, color = 'blue')\n",
    "plt.xlabel(\"number of iteration\")\n",
    "plt.ylabel(\"log loss\")\n",
    "plt.title(\"Fitness improving with more iterations\")\n",
    "plt.show()"
   ]
  },
  {
   "cell_type": "code",
   "execution_count": 32,
   "metadata": {},
   "outputs": [
    {
     "name": "stdout",
     "output_type": "stream",
     "text": [
      "--- Number of weight: 160 ---\n",
      "--- Min fitted weight: -4.936252821386785 ---\n",
      "--- Max fitted weight: 4.983902221547044 ---\n",
      "--- Mean fitted weight: 0.34142073796406375 ---\n"
     ]
    }
   ],
   "source": [
    "# best weight\n",
    "print(\"--- Number of weight: %s ---\" % len(nn_model3.fitted_weights))\n",
    "print(\"--- Min fitted weight: %s ---\" % min(nn_model3.fitted_weights))\n",
    "print(\"--- Max fitted weight: %s ---\" % max(nn_model3.fitted_weights))\n",
    "print(\"--- Mean fitted weight: %s ---\" % (sum(nn_model3.fitted_weights)/len(nn_model3.fitted_weights)))"
   ]
  },
  {
   "cell_type": "code",
   "execution_count": 33,
   "metadata": {},
   "outputs": [
    {
     "data": {
      "image/png": "[encoded data removed]",
      "text/plain": [
       "<matplotlib.figure.Figure at 0x7f1e9f67b550>"
      ]
     },
     "metadata": {},
     "output_type": "display_data"
    }
   ],
   "source": [
    "plt.hist(nn_model3.fitted_weights, color = 'lightblue', edgecolor = 'black')\n",
    "plt.ylabel(\"number of weights\")\n",
    "plt.xlabel(\"weight\")\n",
    "plt.title('Distribution of the learned weights')\n",
    "plt.show()"
   ]
  },
  {
   "cell_type": "code",
   "execution_count": 38,
   "metadata": {},
   "outputs": [
    {
     "data": {
      "image/png": "[encoded data removed]",
      "text/plain": [
       "<matplotlib.figure.Figure at 0x7f1e9f4102b0>"
      ]
     },
     "metadata": {},
     "output_type": "display_data"
    }
   ],
   "source": [
    "plt.plot(range(1, max_iters+1), nn_model1.current_best_loss, color = 'blue')\n",
    "plt.plot(range(1, max_iters+1), nn_model2.current_best_loss, color = 'green')\n",
    "plt.plot(range(1, max_iters+1), nn_model3.current_best_loss, color = 'magenta')\n",
    "plt.xlabel(\"number of iteration\")\n",
    "plt.ylabel(\"log loss\")\n",
    "plt.show()"
   ]
  }
 ],
 "metadata": {
  "kernelspec": {
   "display_name": "Python 3",
   "language": "python",
   "name": "python3"
  },
  "language_info": {
   "codemirror_mode": {
    "name": "ipython",
    "version": 3
   },
   "file_extension": ".py",
   "mimetype": "text/x-python",
   "name": "python",
   "nbconvert_exporter": "python",
   "pygments_lexer": "ipython3",
   "version": "3.6.8"
  }
 },
 "nbformat": 4,
 "nbformat_minor": 2
}
