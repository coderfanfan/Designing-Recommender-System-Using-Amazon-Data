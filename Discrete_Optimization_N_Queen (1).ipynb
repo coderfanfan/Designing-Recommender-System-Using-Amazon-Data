{
 "cells": [
  {
   "cell_type": "code",
   "execution_count": 1,
   "metadata": {},
   "outputs": [],
   "source": [
    "import mlrose2 as mlrose\n",
    "import numpy as np\n",
    "import pandas as pd\n",
    "import random\n",
    "from algorithm_wrapper import *"
   ]
  },
  {
   "cell_type": "markdown",
   "metadata": {},
   "source": [
    "## Queen"
   ]
  },
  {
   "cell_type": "code",
   "execution_count": 2,
   "metadata": {},
   "outputs": [],
   "source": [
    "max_queen = 200\n",
    "problems = []\n",
    "fitness = mlrose.Queens()\n",
    "\n",
    "for i in range(4, max_queen, 5):\n",
    "    # Define optimization problem object\n",
    "    problem = mlrose.DiscreteOpt(length = i, fitness_fn = fitness, maximize = False, max_val = i)\n",
    "    problems.append(problem)"
   ]
  },
  {
   "cell_type": "code",
   "execution_count": 3,
   "metadata": {},
   "outputs": [
    {
     "name": "stdout",
     "output_type": "stream",
     "text": [
      "RHC: 47.17313289642334, average 84.3 fitness, average 68.2 iterations\n",
      "RHC_restart: 489.3259813785553, average 62.775 fitness, average 448.7 iterations\n",
      "SA: 423.9678146839142, average 55.475 fitness, average 347.0 iterations\n",
      "GA: 11792.829857826233, average 83.5 fitness, average 81.125 iterations\n",
      "MIMIC: 7280.125429868698, average 87.475 fitness, average 12.475 iterations\n"
     ]
    }
   ],
   "source": [
    "for alg in ['RHC', 'RHC_restart', 'SA', 'GA', 'MIMIC']:\n",
    "    time_seconds, avg_best_fitness, avg_iterations, best_fitnesses, num_iterations = batch_optimize(problems, alg)\n",
    "    pd.DataFrame(best_fitnesses).to_csv(\"queen_{}_best_fitness.csv\".format(alg))\n",
    "    pd.DataFrame(num_iterations).to_csv(\"queen_{}_num_iterations.csv\".format(alg))\n",
    "    print(\"{alg}: {time_seconds}, average {avg_best_fitness} fitness, average {avg_iterations} iterations\". format(alg=alg,\n",
    "                                                                                                                   time_seconds=time_seconds,\n",
    "                                                                                                                   avg_best_fitness=avg_best_fitness,\n",
    "                                                                                                                   avg_iterations=avg_iterations\n",
    "                                                                                                                  )\n",
    "         )    "
   ]
  }
 ],
 "metadata": {
  "kernelspec": {
   "display_name": "Python 3",
   "language": "python",
   "name": "python3"
  },
  "language_info": {
   "codemirror_mode": {
    "name": "ipython",
    "version": 3
   },
   "file_extension": ".py",
   "mimetype": "text/x-python",
   "name": "python",
   "nbconvert_exporter": "python",
   "pygments_lexer": "ipython3",
   "version": "3.6.8"
  }
 },
 "nbformat": 4,
 "nbformat_minor": 2
}
