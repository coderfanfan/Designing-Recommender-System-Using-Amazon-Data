{
 "cells": [
  {
   "cell_type": "code",
   "execution_count": 15,
   "metadata": {},
   "outputs": [],
   "source": [
    "import mlrose2 as mlrose\n",
    "import numpy as np\n",
    "import pandas as pd\n",
    "import matplotlib.pyplot as plt\n",
    "import seaborn as sns\n",
    "from sklearn.metrics import f1_score\n",
    "from sklearn import metrics\n",
    "from sklearn.model_selection import cross_validate\n",
    "from sklearn.model_selection import StratifiedKFold\n",
    "from sklearn.model_selection import train_test_split\n",
    "from sklearn.model_selection import learning_curve\n",
    "from sklearn.preprocessing import MinMaxScaler, OneHotEncoder\n",
    "from sklearn.neural_network import MLPClassifier\n",
    "import time"
   ]
  },
  {
   "cell_type": "markdown",
   "metadata": {},
   "source": [
    "## Data Preparation"
   ]
  },
  {
   "cell_type": "code",
   "execution_count": 3,
   "metadata": {},
   "outputs": [],
   "source": [
    "df = pd.read_csv(\"train.csv\")"
   ]
  },
  {
   "cell_type": "code",
   "execution_count": 4,
   "metadata": {},
   "outputs": [
    {
     "data": {
      "text/plain": [
       "label\n",
       "0    4132\n",
       "1    4684\n",
       "2    4177\n",
       "3    4351\n",
       "4    4072\n",
       "5    3795\n",
       "6    4137\n",
       "7    4401\n",
       "8    4063\n",
       "9    4188\n",
       "dtype: int64"
      ]
     },
     "execution_count": 4,
     "metadata": {},
     "output_type": "execute_result"
    }
   ],
   "source": [
    "df.groupby('label').size()"
   ]
  },
  {
   "cell_type": "code",
   "execution_count": 5,
   "metadata": {},
   "outputs": [],
   "source": [
    "#split features and targets \n",
    "X = df.drop(['label'], axis=1)\n",
    "Y = df['label']\n",
    "\n",
    "#Spliting data into training, testing set \n",
    "np.random.seed(0)\n",
    "Xtrain, Xtest, Ytrain, Ytest = train_test_split(X, Y, test_size = 0.5, stratify =Y, random_state=999)"
   ]
  },
  {
   "cell_type": "code",
   "execution_count": 6,
   "metadata": {},
   "outputs": [],
   "source": [
    "# One hot encode target values\n",
    "one_hot = OneHotEncoder(categories='auto')\n",
    "\n",
    "Ytrain = one_hot.fit_transform(Ytrain.values.reshape(-1, 1)).todense()\n",
    "Ytest = one_hot.fit_transform(Ytest.values.reshape(-1, 1)).todense()"
   ]
  },
  {
   "cell_type": "code",
   "execution_count": 7,
   "metadata": {},
   "outputs": [],
   "source": [
    "Xtrain = np.array(Xtrain)\n",
    "Xtest = np.array(Xtest)"
   ]
  },
  {
   "cell_type": "code",
   "execution_count": 8,
   "metadata": {},
   "outputs": [
    {
     "data": {
      "text/plain": [
       "784"
      ]
     },
     "execution_count": 8,
     "metadata": {},
     "output_type": "execute_result"
    }
   ],
   "source": [
    "len(Xtrain[1])"
   ]
  },
  {
   "cell_type": "code",
   "execution_count": 13,
   "metadata": {
    "scrolled": true
   },
   "outputs": [
    {
     "data": {
      "text/plain": [
       "21000"
      ]
     },
     "execution_count": 13,
     "metadata": {},
     "output_type": "execute_result"
    }
   ],
   "source": [
    "len(Xtrain)"
   ]
  },
  {
   "cell_type": "markdown",
   "metadata": {},
   "source": [
    "## Backpropagation"
   ]
  },
  {
   "cell_type": "code",
   "execution_count": 20,
   "metadata": {},
   "outputs": [
    {
     "name": "stdout",
     "output_type": "stream",
     "text": [
      "--- 270.01352071762085 seconds ---\n"
     ]
    }
   ],
   "source": [
    "start = time.time()\n",
    "clf = MLPClassifier(solver='lbfgs', alpha=1e-5,\n",
    "                    hidden_layer_sizes=(20), random_state=1, max_iter=300)\n",
    "clf.fit(Xtrain, Ytrain)\n",
    "\n",
    "end = time.time()\n",
    "print(\"--- %s seconds ---\" % (end - start))"
   ]
  },
  {
   "cell_type": "code",
   "execution_count": 19,
   "metadata": {},
   "outputs": [
    {
     "name": "stderr",
     "output_type": "stream",
     "text": [
      "/home/anaconda/anaconda/lib/python3.6/site-packages/sklearn/metrics/classification.py:1143: UndefinedMetricWarning: F-score is ill-defined and being set to 0.0 in labels with no predicted samples.\n",
      "  'precision', 'predicted', average, warn_for)\n"
     ]
    },
    {
     "name": "stdout",
     "output_type": "stream",
     "text": [
      "--- Train F1: 0.11674308601659067 ---\n",
      "--- Test F1: 0.1164886439947915 ---\n"
     ]
    },
    {
     "name": "stderr",
     "output_type": "stream",
     "text": [
      "/home/anaconda/anaconda/lib/python3.6/site-packages/sklearn/metrics/classification.py:1143: UndefinedMetricWarning: F-score is ill-defined and being set to 0.0 in labels with no predicted samples.\n",
      "  'precision', 'predicted', average, warn_for)\n"
     ]
    }
   ],
   "source": [
    "# Predict labels for train set and assess accuracy\n",
    "Ytrain_pred = clf.predict(Xtrain)\n",
    "\n",
    "Ytrain_f1 = f1_score(Ytrain, Ytrain_pred, average='macro')\n",
    "\n",
    "print(\"--- Train F1: %s ---\" % Ytrain_f1)\n",
    "\n",
    "# Predict labels for test set and assess accuracy\n",
    "Ytest_pred = clf.predict(Xtest)\n",
    "\n",
    "Ytest_f1 = f1_score(Ytest, Ytest_pred, average='macro')\n",
    "\n",
    "print(\"--- Test F1: %s ---\" % Ytest_f1)"
   ]
  },
  {
   "cell_type": "code",
   "execution_count": null,
   "metadata": {},
   "outputs": [],
   "source": [
    "Ytrain_loss = metrics.log_lss(Ytrain, Ytrain_pred)"
   ]
  },
  {
   "cell_type": "markdown",
   "metadata": {},
   "source": [
    "## randomized hill climbing"
   ]
  },
  {
   "cell_type": "code",
   "execution_count": 8,
   "metadata": {},
   "outputs": [
    {
     "name": "stdout",
     "output_type": "stream",
     "text": [
      "--- 6382.253822088242 seconds ---\n"
     ]
    }
   ],
   "source": [
    "# Initialize neural network object and fit object\n",
    "start = time.time()\n",
    "np.random.seed(3)\n",
    "max_iters = 10000\n",
    "\n",
    "nn_model1 = mlrose.NeuralNetwork(hidden_nodes = [20], activation = 'tanh', \\\n",
    "                                 algorithm = 'random_hill_climb', max_iters = max_iters, \\\n",
    "                                 bias = True, is_classifier = True, learning_rate = 0.1, \\\n",
    "                                 early_stopping = True, clip_max = 5, max_attempts = 100)\n",
    "\n",
    "nn_model1.fit(Xtrain, Ytrain)\n",
    "end = time.time()\n",
    "print(\"--- %s seconds ---\" % (end - start))"
   ]
  },
  {
   "cell_type": "code",
   "execution_count": 9,
   "metadata": {
    "scrolled": true
   },
   "outputs": [
    {
     "name": "stdout",
     "output_type": "stream",
     "text": [
      "--- Train F1: 0.17367257082501958 ---\n",
      "--- Test F1: 0.17048887587993736 ---\n"
     ]
    }
   ],
   "source": [
    "# Predict labels for train set and assess accuracy\n",
    "Ytrain_pred = nn_model1.predict(Xtrain)\n",
    "\n",
    "Ytrain_f1 = f1_score(Ytrain, Ytrain_pred, average='macro')\n",
    "\n",
    "print(\"--- Train F1: %s ---\" % Ytrain_f1)\n",
    "\n",
    "# Predict labels for test set and assess accuracy\n",
    "Ytest_pred = nn_model1.predict(Xtest)\n",
    "\n",
    "Ytest_f1 = f1_score(Ytest, Ytest_pred, average='macro')\n",
    "\n",
    "print(\"--- Test F1: %s ---\" % Ytest_f1)"
   ]
  },
  {
   "cell_type": "code",
   "execution_count": 10,
   "metadata": {},
   "outputs": [
    {
     "data": {
      "image/png": "[encoded data removed]",
      "text/plain": [
       "<matplotlib.figure.Figure at 0x7f4bf44f99b0>"
      ]
     },
     "metadata": {},
     "output_type": "display_data"
    }
   ],
   "source": [
    "# loss change with number of iterations \n",
    "pd.DataFrame(nn_model1.all_loss).to_csv(\"nn_randomized_hill_climb_{}iter_loss.csv\".format(max_iters))\n",
    "plt.plot(range(1, max_iters+1), nn_model1.all_loss, color = 'blue')\n",
    "plt.xlabel(\"number of iteration\")\n",
    "plt.ylabel(\"log loss\")\n",
    "plt.title(\"Fitness improving with more iterations\")\n",
    "plt.show()"
   ]
  },
  {
   "cell_type": "code",
   "execution_count": 11,
   "metadata": {},
   "outputs": [
    {
     "name": "stdout",
     "output_type": "stream",
     "text": [
      "--- Number of weight: 15900 ---\n",
      "--- Min fitted weight: -1.174662792834764 ---\n",
      "--- Max fitted weight: 1.1990209443219524 ---\n",
      "--- Mean fitted weight: -0.0061044494178600075 ---\n"
     ]
    }
   ],
   "source": [
    "# best weight\n",
    "print(\"--- Number of weight: %s ---\" % len(nn_model1.fitted_weights))\n",
    "print(\"--- Min fitted weight: %s ---\" % min(nn_model1.fitted_weights))\n",
    "print(\"--- Max fitted weight: %s ---\" % max(nn_model1.fitted_weights))\n",
    "print(\"--- Mean fitted weight: %s ---\" % (sum(nn_model1.fitted_weights)/len(nn_model1.fitted_weights)))"
   ]
  },
  {
   "cell_type": "code",
   "execution_count": 12,
   "metadata": {},
   "outputs": [
    {
     "data": {
      "image/png": "[encoded data removed]",
      "text/plain": [
       "<matplotlib.figure.Figure at 0x7f4bc7ec7e10>"
      ]
     },
     "metadata": {},
     "output_type": "display_data"
    }
   ],
   "source": [
    "plt.hist(nn_model1.fitted_weights, color = 'lightblue', edgecolor = 'black')\n",
    "plt.ylabel(\"number of weights\")\n",
    "plt.title('Distribution of the learned weights')\n",
    "plt.show()"
   ]
  },
  {
   "cell_type": "markdown",
   "metadata": {},
   "source": [
    "## simulated annealing"
   ]
  },
  {
   "cell_type": "code",
   "execution_count": 10,
   "metadata": {},
   "outputs": [
    {
     "name": "stdout",
     "output_type": "stream",
     "text": [
      "--- 7823.860098361969 seconds ---\n"
     ]
    }
   ],
   "source": [
    "start = time.time()\n",
    "# Initialize neural network object and fit object\n",
    "np.random.seed(3)\n",
    "max_iters = 8000\n",
    "\n",
    "nn_model2 = mlrose.NeuralNetwork(hidden_nodes = [20], activation = 'tanh', \\\n",
    "                                 algorithm = 'simulated_annealing', schedule=mlrose.GeomDecay(init_temp=10000, decay=0.95, min_temp=0.01),\\\n",
    "                                 max_iters = max_iters, \\\n",
    "                                 bias = True, is_classifier = True, learning_rate = 0.1, \\\n",
    "                                 early_stopping = True, clip_max = 5, max_attempts = 100)\n",
    "\n",
    "nn_model2.fit(Xtrain, Ytrain)\n",
    "end = time.time()\n",
    "print(\"--- %s seconds ---\" % (end - start))"
   ]
  },
  {
   "cell_type": "code",
   "execution_count": 11,
   "metadata": {},
   "outputs": [
    {
     "name": "stdout",
     "output_type": "stream",
     "text": [
      "--- Train F1: 0.1010816816469388 ---\n",
      "--- Test F1: 0.10123908702678959 ---\n"
     ]
    }
   ],
   "source": [
    "# Predict labels for train set and assess accuracy\n",
    "Ytrain_pred = nn_model2.predict(Xtrain)\n",
    "\n",
    "Ytrain_f1 = f1_score(Ytrain, Ytrain_pred, average='macro')\n",
    "\n",
    "print(\"--- Train F1: %s ---\" % Ytrain_f1)\n",
    "\n",
    "# Predict labels for test set and assess accuracy\n",
    "Ytest_pred = nn_model2.predict(Xtest)\n",
    "\n",
    "Ytest_f1 = f1_score(Ytest, Ytest_pred, average='macro')\n",
    "\n",
    "print(\"--- Test F1: %s ---\" % Ytest_f1)"
   ]
  },
  {
   "cell_type": "code",
   "execution_count": 17,
   "metadata": {},
   "outputs": [
    {
     "data": {
      "image/png": "[encoded data removed]",
      "text/plain": [
       "<matplotlib.figure.Figure at 0x7f184daf73c8>"
      ]
     },
     "metadata": {},
     "output_type": "display_data"
    }
   ],
   "source": [
    "# loss change with number of iterations \n",
    "pd.DataFrame(nn_model2.current_best_loss).to_csv(\"nn_simulated_annealing_{}iter_loss.csv\".format(max_iters))\n",
    "plt.plot(range(1, max_iters+1), nn_model2.current_best_loss, color = 'blue')\n",
    "plt.xlabel(\"number of iteration\")\n",
    "plt.ylabel(\"log loss\")\n",
    "plt.title(\"Fitness improving with more iterations\")\n",
    "plt.show()"
   ]
  },
  {
   "cell_type": "code",
   "execution_count": 21,
   "metadata": {},
   "outputs": [
    {
     "ename": "AttributeError",
     "evalue": "'NeuralNetwork' object has no attribute 'best_fitness'",
     "output_type": "error",
     "traceback": [
      "\u001b[0;31m---------------------------------------------------------------------------\u001b[0m",
      "\u001b[0;31mAttributeError\u001b[0m                            Traceback (most recent call last)",
      "\u001b[0;32m<ipython-input-21-bb60afe8f18b>\u001b[0m in \u001b[0;36m<module>\u001b[0;34m()\u001b[0m\n\u001b[0;32m----> 1\u001b[0;31m \u001b[0mnn_model2\u001b[0m\u001b[0;34m.\u001b[0m\u001b[0mbest_fitness\u001b[0m\u001b[0;34m\u001b[0m\u001b[0;34m\u001b[0m\u001b[0m\n\u001b[0m",
      "\u001b[0;31mAttributeError\u001b[0m: 'NeuralNetwork' object has no attribute 'best_fitness'"
     ]
    }
   ],
   "source": [
    "nn_model2.best_fitness"
   ]
  },
  {
   "cell_type": "code",
   "execution_count": null,
   "metadata": {},
   "outputs": [],
   "source": [
    "# best weight\n",
    "print(\"--- Number of weight: %s ---\" % len(nn_model2.fitted_weights))\n",
    "print(\"--- Min fitted weight: %s ---\" % min(nn_model2.fitted_weights))\n",
    "print(\"--- Max fitted weight: %s ---\" % max(nn_model2.fitted_weights))\n",
    "print(\"--- Mean fitted weight: %s ---\" % (sum(nn_model2.fitted_weights)/len(nn_model2.fitted_weights)))"
   ]
  },
  {
   "cell_type": "code",
   "execution_count": null,
   "metadata": {},
   "outputs": [],
   "source": [
    "plt.hist(nn_model2.fitted_weights, color = 'lightblue', edgecolor = 'black')\n",
    "plt.xlabel(\"weight\")\n",
    "plt.ylabel(\"number of weights\")\n",
    "plt.title('Distribution of the learned weights')\n",
    "plt.show()"
   ]
  },
  {
   "cell_type": "markdown",
   "metadata": {},
   "source": [
    "## genetic algorithm"
   ]
  },
  {
   "cell_type": "code",
   "execution_count": 28,
   "metadata": {},
   "outputs": [
    {
     "name": "stdout",
     "output_type": "stream",
     "text": [
      "--- 9930.864150762558 seconds ---\n"
     ]
    }
   ],
   "source": [
    "start = time.time()\n",
    "# Initialize neural network object and fit object\n",
    "np.random.seed(3)\n",
    "max_iters = 100\n",
    "\n",
    "nn_model3 = mlrose.NeuralNetwork(hidden_nodes = [20], activation = 'tanh', \\\n",
    "                                 algorithm = 'genetic_alg', pop_size = 200, mutation_prob = 0.1, max_iters = max_iters, \\\n",
    "                                 bias = True, is_classifier = True, learning_rate = 0.1, \\\n",
    "                                 early_stopping = True, clip_max = 5, max_attempts = 100)\n",
    "\n",
    "nn_model3.fit(Xtrain, Ytrain)\n",
    "end = time.time()\n",
    "print(\"--- %s seconds ---\" % (end - start))"
   ]
  },
  {
   "cell_type": "code",
   "execution_count": 29,
   "metadata": {},
   "outputs": [
    {
     "name": "stdout",
     "output_type": "stream",
     "text": [
      "--- Train F1: 0.1185035326100711 ---\n",
      "--- Test F1: 0.11637228800919466 ---\n"
     ]
    }
   ],
   "source": [
    "# Predict labels for train set and assess accuracy\n",
    "Ytrain_pred = nn_model3.predict(Xtrain)\n",
    "\n",
    "Ytrain_f1 = f1_score(Ytrain, Ytrain_pred, average='macro')\n",
    "\n",
    "print(\"--- Train F1: %s ---\" % Ytrain_f1)\n",
    "\n",
    "# Predict labels for test set and assess accuracy\n",
    "Ytest_pred = nn_model3.predict(Xtest)\n",
    "\n",
    "Ytest_f1 = f1_score(Ytest, Ytest_pred, average='macro')\n",
    "\n",
    "print(\"--- Test F1: %s ---\" % Ytest_f1)"
   ]
  },
  {
   "cell_type": "code",
   "execution_count": null,
   "metadata": {},
   "outputs": [],
   "source": [
    "# loss change with number of iterations \n",
    "#pd.DataFrame(nn_model3.all_loss).to_csv(\"nn_GA_{}iter_loss.csv\".format(max_iters))\n",
    "plt.plot(range(1, max_iters+1), nn_model3.all_loss, color = 'blue')\n",
    "plt.xlabel(\"number of iteration\")\n",
    "plt.ylabel(\"log loss\")\n",
    "plt.title(\"Fitness improving with more iterations\")\n",
    "plt.show()"
   ]
  },
  {
   "cell_type": "code",
   "execution_count": 31,
   "metadata": {},
   "outputs": [
    {
     "name": "stdout",
     "output_type": "stream",
     "text": [
      "--- Number of weight: 15900 ---\n",
      "--- Min fitted weight: -4.998463723291683 ---\n",
      "--- Max fitted weight: 4.998639631060303 ---\n",
      "--- Mean fitted weight: 0.011469276162632474 ---\n"
     ]
    }
   ],
   "source": [
    "# best weight\n",
    "print(\"--- Number of weight: %s ---\" % len(nn_model3.fitted_weights))\n",
    "print(\"--- Min fitted weight: %s ---\" % min(nn_model3.fitted_weights))\n",
    "print(\"--- Max fitted weight: %s ---\" % max(nn_model3.fitted_weights))\n",
    "print(\"--- Mean fitted weight: %s ---\" % (sum(nn_model3.fitted_weights)/len(nn_model3.fitted_weights)))"
   ]
  },
  {
   "cell_type": "code",
   "execution_count": 32,
   "metadata": {},
   "outputs": [
    {
     "data": {
      "image/png": "[encoded data removed]",
      "text/plain": [
       "<matplotlib.figure.Figure at 0x7fb319c67c18>"
      ]
     },
     "metadata": {},
     "output_type": "display_data"
    }
   ],
   "source": [
    "plt.hist(nn_model3.fitted_weights, color = 'lightblue', edgecolor = 'black')\n",
    "plt.ylabel(\"number of weights\")\n",
    "plt.xlabel(\"weight\")\n",
    "plt.title('Distribution of the learned weights')\n",
    "plt.show()"
   ]
  }
 ],
 "metadata": {
  "kernelspec": {
   "display_name": "Python 3",
   "language": "python",
   "name": "python3"
  },
  "language_info": {
   "codemirror_mode": {
    "name": "ipython",
    "version": 3
   },
   "file_extension": ".py",
   "mimetype": "text/x-python",
   "name": "python",
   "nbconvert_exporter": "python",
   "pygments_lexer": "ipython3",
   "version": "3.6.8"
  }
 },
 "nbformat": 4,
 "nbformat_minor": 2
}
