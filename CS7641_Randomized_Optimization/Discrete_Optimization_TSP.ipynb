{
 "cells": [
  {
   "cell_type": "code",
   "execution_count": 1,
   "metadata": {},
   "outputs": [],
   "source": [
    "import mlrose2 as mlrose\n",
    "import numpy as np\n",
    "import pandas as pd\n",
    "import random\n",
    "from algorithm_wrapper import *"
   ]
  },
  {
   "cell_type": "markdown",
   "metadata": {},
   "source": [
    "# Travelling Salesperson Problems "
   ]
  },
  {
   "cell_type": "markdown",
   "metadata": {},
   "source": [
    "## Generate random city coordinates of fixed number of cities"
   ]
  },
  {
   "cell_type": "code",
   "execution_count": 7,
   "metadata": {},
   "outputs": [],
   "source": [
    "# generate random city coordinates\n",
    "def random_coords(min_val, max_val):\n",
    "    x = random.randint(min_val, max_val)\n",
    "    y = random.randint(min_val, max_val)\n",
    "    return (x, y)\n",
    "\n",
    "# generate lists of city coordinates\n",
    "def random_coords_lists(num_lists, coords_per_list, min_val=0, max_val=100):\n",
    "    \n",
    "    coords_lists = []\n",
    "    for i in range(num_lists):\n",
    "        coords_list = []\n",
    "        for j in range(coords_per_list):\n",
    "            coords = random_coords(min_val, max_val)\n",
    "            coords_list.append(coords)\n",
    "        coords_lists.append(coords_list)\n",
    "        \n",
    "    return coords_lists\n",
    "\n",
    "# define TSP problems\n",
    "def TSPproblems(coords_lists):\n",
    "    problem_lists = []\n",
    "    for l in coords_lists:\n",
    "        # Initialize fitness function object using coords_list\n",
    "        fitness_coords = mlrose.TravellingSales(coords = l)\n",
    "        # Define optimization problem object\n",
    "        problem = mlrose.TSPOpt(length = len(l), fitness_fn = fitness_coords, maximize=False)\n",
    "        problem_lists.append(problem)        \n",
    "    return problem_lists\n"
   ]
  },
  {
   "cell_type": "code",
   "execution_count": 14,
   "metadata": {},
   "outputs": [],
   "source": [
    "np.random.seed(2)\n",
    "num_lists = 50\n",
    "coords_per_list = 8\n",
    "coords_lists = random_coords_lists(num_lists, coords_per_list, min_val=0, max_val=100)\n",
    "problems = TSPproblems(coords_lists)"
   ]
  },
  {
   "cell_type": "code",
   "execution_count": 15,
   "metadata": {
    "scrolled": true
   },
   "outputs": [
    {
     "name": "stdout",
     "output_type": "stream",
     "text": [
      "[(87, 28), (12, 87), (55, 28), (16, 5), (55, 89), (12, 52), (23, 61), (49, 1)]\n",
      "[(40, 1), (16, 91), (76, 16), (80, 91), (77, 49), (39, 13), (39, 26), (59, 93)]\n",
      "[(98, 7), (66, 61), (48, 76), (97, 97), (0, 20), (1, 73), (22, 17), (18, 91)]\n",
      "[(39, 96), (19, 1), (79, 94), (7, 78), (81, 69), (75, 95), (13, 80), (65, 11)]\n",
      "[(22, 26), (27, 46), (51, 36), (41, 93), (25, 67), (24, 69), (20, 87), (13, 40)]\n",
      "[(49, 54), (73, 71), (23, 54), (21, 52), (2, 9), (6, 5), (20, 98), (53, 99)]\n",
      "[(50, 35), (41, 80), (34, 31), (97, 97), (6, 76), (90, 25), (24, 35), (90, 80)]\n",
      "[(19, 46), (48, 53), (27, 4), (81, 88), (78, 83), (69, 30), (17, 98), (90, 61)]\n",
      "[(11, 1), (28, 31), (57, 26), (67, 71), (11, 49), (14, 42), (81, 18), (63, 35)]\n",
      "[(99, 75), (63, 4), (66, 8), (94, 93), (91, 21), (82, 95), (49, 19), (98, 91)]\n",
      "[(23, 68), (4, 57), (34, 2), (72, 21), (47, 16), (40, 13), (50, 34), (32, 26)]\n",
      "[(28, 57), (16, 10), (52, 1), (6, 24), (72, 46), (61, 59), (61, 27), (71, 40)]\n",
      "[(96, 51), (5, 16), (71, 46), (78, 91), (76, 98), (55, 100), (60, 62), (34, 8)]\n",
      "[(33, 43), (6, 17), (41, 87), (74, 76), (49, 66), (10, 13), (49, 9), (24, 31)]\n",
      "[(38, 41), (58, 52), (38, 18), (14, 5), (88, 4), (51, 56), (40, 76), (65, 11)]\n",
      "[(35, 40), (92, 64), (24, 41), (86, 77), (65, 51), (36, 96), (97, 44), (76, 5)]\n",
      "[(49, 15), (11, 31), (40, 83), (7, 5), (47, 14), (53, 61), (57, 39), (15, 19)]\n",
      "[(86, 18), (99, 81), (92, 40), (0, 14), (28, 83), (54, 73), (86, 39), (41, 66)]\n",
      "[(100, 8), (4, 45), (97, 57), (64, 31), (96, 10), (65, 66), (85, 18), (66, 74)]\n",
      "[(13, 88), (45, 78), (63, 88), (80, 36), (23, 17), (22, 95), (55, 94), (61, 60)]\n",
      "[(50, 45), (22, 4), (78, 90), (49, 73), (7, 74), (81, 85), (73, 90), (61, 41)]\n",
      "[(46, 71), (41, 92), (6, 33), (74, 81), (92, 57), (22, 28), (0, 59), (45, 13)]\n",
      "[(35, 37), (39, 81), (4, 30), (89, 29), (81, 31), (92, 9), (53, 60), (55, 30)]\n",
      "[(37, 29), (13, 85), (18, 19), (28, 10), (45, 99), (38, 96), (6, 74), (42, 90)]\n",
      "[(67, 1), (64, 18), (7, 22), (32, 67), (46, 9), (9, 0), (37, 51), (13, 29)]\n",
      "[(30, 51), (57, 70), (90, 42), (89, 78), (13, 5), (58, 8), (60, 76), (28, 16)]\n",
      "[(11, 41), (24, 56), (85, 74), (0, 97), (44, 61), (95, 31), (64, 77), (79, 52)]\n",
      "[(30, 78), (77, 40), (95, 92), (81, 41), (51, 35), (20, 3), (80, 53), (34, 54)]\n",
      "[(45, 69), (74, 16), (56, 27), (5, 33), (57, 19), (29, 23), (49, 85), (43, 16)]\n",
      "[(20, 84), (88, 24), (17, 73), (18, 45), (31, 9), (3, 84), (24, 100), (2, 36)]\n",
      "[(62, 77), (29, 75), (83, 22), (56, 1), (63, 55), (48, 7), (49, 48), (69, 35)]\n",
      "[(84, 0), (54, 43), (34, 40), (34, 56), (76, 44), (39, 24), (23, 76), (29, 15)]\n",
      "[(51, 29), (62, 76), (94, 90), (82, 46), (41, 24), (47, 65), (92, 27), (77, 95)]\n",
      "[(19, 53), (14, 9), (54, 8), (97, 43), (28, 63), (12, 66), (93, 15), (38, 57)]\n",
      "[(96, 82), (31, 9), (51, 28), (78, 30), (89, 14), (91, 65), (81, 63), (34, 29)]\n",
      "[(44, 35), (91, 23), (55, 27), (98, 64), (44, 96), (3, 95), (74, 7), (31, 72)]\n",
      "[(6, 73), (8, 19), (65, 98), (17, 39), (62, 30), (36, 95), (92, 86), (79, 70)]\n",
      "[(53, 5), (47, 35), (82, 63), (26, 18), (66, 67), (29, 78), (64, 3), (15, 74)]\n",
      "[(76, 53), (84, 55), (81, 20), (84, 5), (8, 54), (14, 36), (49, 12), (22, 50)]\n",
      "[(47, 64), (1, 99), (39, 80), (65, 33), (88, 73), (34, 70), (37, 49), (24, 95)]\n",
      "[(64, 11), (39, 48), (58, 16), (57, 42), (84, 81), (82, 82), (79, 62), (24, 78)]\n",
      "[(80, 48), (94, 45), (36, 9), (81, 36), (69, 72), (73, 45), (55, 88), (86, 29)]\n",
      "[(58, 15), (38, 85), (50, 84), (90, 78), (29, 34), (24, 12), (58, 62), (16, 20)]\n",
      "[(60, 36), (3, 73), (5, 93), (52, 46), (38, 46), (65, 28), (40, 94), (27, 32)]\n",
      "[(1, 40), (16, 71), (37, 7), (1, 25), (74, 37), (50, 8), (66, 61), (85, 31)]\n",
      "[(21, 76), (29, 86), (58, 16), (55, 37), (35, 40), (4, 5), (63, 63), (1, 91)]\n",
      "[(93, 64), (27, 89), (63, 65), (36, 64), (23, 4), (53, 4), (50, 31), (94, 67)]\n",
      "[(43, 65), (98, 7), (80, 95), (42, 77), (92, 67), (86, 34), (64, 6), (39, 75)]\n",
      "[(50, 0), (60, 97), (70, 8), (2, 40), (38, 48), (32, 36), (95, 99), (68, 82)]\n",
      "[(81, 12), (0, 60), (98, 35), (98, 45), (10, 70), (45, 38), (46, 22), (68, 38)]\n"
     ]
    }
   ],
   "source": [
    "for l in coords_lists: \n",
    "    print (l)"
   ]
  },
  {
   "cell_type": "markdown",
   "metadata": {},
   "source": [
    "## Optimization "
   ]
  },
  {
   "cell_type": "code",
   "execution_count": 13,
   "metadata": {
    "scrolled": true
   },
   "outputs": [
    {
     "name": "stdout",
     "output_type": "stream",
     "text": [
      "RHC: 0.4648768901824951, average 305.15972169363033 fitness, average 24.36 iterations\n",
      "RHC_restart: 2.5903239250183105, average 270.5522239628137 fitness, average 146.72 iterations\n",
      "GA: 421.4790139198303, average 266.62486491388313 fitness, average 83.22 iterations\n",
      "SA: 3.5893354415893555, average 290.24087680634256 fitness, average 149.28 iterations\n",
      "MIMIC: 179.51068210601807, average 269.61709404487306 fitness, average 11.8 iterations\n"
     ]
    }
   ],
   "source": [
    "for alg in ['RHC', 'RHC_restart', 'GA', 'SA', 'MIMIC']:\n",
    "    time_seconds, avg_best_fitness, avg_iterations, best_fitnesses, num_iterations = batch_optimize(problems, alg)\n",
    "    pd.DataFrame(best_fitnesses).to_csv(\"TSP2_{}_best_fitness.csv\".format(alg))\n",
    "    pd.DataFrame(num_iterations).to_csv(\"TSP2_{}_num_iterations.csv\".format(alg))\n",
    "    print(\"{alg}: {time_seconds}, average {avg_best_fitness} fitness, average {avg_iterations} iterations\". format(alg=alg,\n",
    "                                                                                                                   time_seconds=time_seconds,\n",
    "                                                                                                                   avg_best_fitness=avg_best_fitness,\n",
    "                                                                                                                   avg_iterations=avg_iterations\n",
    "                                                                                                                  )\n",
    "         )    "
   ]
  }
 ],
 "metadata": {
  "kernelspec": {
   "display_name": "Python 3",
   "language": "python",
   "name": "python3"
  },
  "language_info": {
   "codemirror_mode": {
    "name": "ipython",
    "version": 3
   },
   "file_extension": ".py",
   "mimetype": "text/x-python",
   "name": "python",
   "nbconvert_exporter": "python",
   "pygments_lexer": "ipython3",
   "version": "3.6.8"
  }
 },
 "nbformat": 4,
 "nbformat_minor": 2
}
