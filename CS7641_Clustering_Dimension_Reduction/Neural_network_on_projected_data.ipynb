{
 "cells": [
  {
   "cell_type": "code",
   "execution_count": 1,
   "metadata": {},
   "outputs": [],
   "source": [
    "import numpy as np\n",
    "import pandas as pd\n",
    "import matplotlib.pyplot as plt\n",
    "from sklearn.preprocessing import OneHotEncoder\n",
    "from sklearn.preprocessing import StandardScaler\n",
    "from sklearn.neural_network import MLPClassifier\n",
    "from sklearn.metrics import f1_score\n",
    "from sklearn import metrics\n",
    "from sklearn.model_selection import cross_validate\n",
    "from sklearn.model_selection import train_test_split\n",
    "import time\n",
    "import warnings\n",
    "import json\n",
    "warnings.filterwarnings(\"ignore\")"
   ]
  },
  {
   "cell_type": "markdown",
   "metadata": {},
   "source": [
    "# Load Projected Data"
   ]
  },
  {
   "cell_type": "code",
   "execution_count": 2,
   "metadata": {},
   "outputs": [],
   "source": [
    "# dataset 1 - digit recognition\n",
    "dfname = \"digit_recognition\"\n",
    "X_raw = pd.read_csv(\"%s_raw_X.csv\" % dfname, index_col=0)\n",
    "X_pca = pd.read_csv(\"%s_PCA_transformed_X_full.csv\" % dfname, index_col=0)\n",
    "X_ica = pd.read_csv(\"%s_ICA_transformed_X_300_components_sorted_by_kurtosis.csv\" % dfname, index_col=0, header=None)\n",
    "X_rp = pd.read_csv(\"%s_Randomized Projection_transformed_X_full.csv\" % dfname, index_col=0)\n",
    "X_fa = pd.read_csv(\"%s_Factor Analysis_transformed_X_full.csv\" % dfname, index_col=0)\n",
    "Y = pd.read_csv(\"%s_corresponding_Y.csv\" % dfname, index_col=0, header=None)\n",
    "\n",
    "components = [5, 10] + list(range(50, 251, 50)) # list of components to iterate neural network"
   ]
  },
  {
   "cell_type": "code",
   "execution_count": 3,
   "metadata": {},
   "outputs": [],
   "source": [
    "# One hot encode target values\n",
    "one_hot = OneHotEncoder(categories='auto')\n",
    "\n",
    "Y = one_hot.fit_transform(Y.values.reshape(-1, 1)).todense()"
   ]
  },
  {
   "cell_type": "markdown",
   "metadata": {},
   "source": [
    "# Neural Network Estimator"
   ]
  },
  {
   "cell_type": "code",
   "execution_count": 4,
   "metadata": {},
   "outputs": [],
   "source": [
    "clf = MLPClassifier(solver='lbfgs', alpha=1e-5,\n",
    "                    hidden_layer_sizes=(50), random_state=1, max_iter=300)\n",
    "\n",
    "scoring = ['f1_macro']"
   ]
  },
  {
   "cell_type": "markdown",
   "metadata": {},
   "source": [
    "# Neural Network on Raw Data "
   ]
  },
  {
   "cell_type": "code",
   "execution_count": 5,
   "metadata": {},
   "outputs": [],
   "source": [
    "np.random.seed(5)\n",
    "score = cross_validate(clf, X_raw, Y, scoring=scoring,\n",
    "                         cv=3, return_train_score=True)\n",
    "raw_cv_score = score['test_f1_macro'].mean()\n",
    "raw_fit_time = score['fit_time'].mean()"
   ]
  },
  {
   "cell_type": "markdown",
   "metadata": {},
   "source": [
    "# Neural Network on Projected Data "
   ]
  },
  {
   "cell_type": "code",
   "execution_count": null,
   "metadata": {},
   "outputs": [],
   "source": [
    "projections = [\n",
    "    ('PCA', X_pca),\n",
    "    ('ICA', X_ica),\n",
    "    ('RP', X_rp),\n",
    "    #('FA', X_fa),\n",
    "]\n",
    "\n",
    "scores = {}\n",
    "fit_time = {}\n",
    "\n",
    "for n in components:\n",
    "    for name, X in projections:\n",
    "        np.random.seed(0)\n",
    "        score = cross_validate(clf, X.iloc[:, :n], Y, scoring=scoring,\n",
    "                               cv=3, return_train_score=True)\n",
    "        if (name not in scores) or (name not in fit_time):\n",
    "            scores[name] = []\n",
    "            fit_time[name] = []\n",
    "        scores[name].append(score['test_f1_macro'].mean())\n",
    "        fit_time[name].append(score['fit_time'].mean())\n",
    "        print(\"--- finish neural network on %s projected data of %d components ---\" % (name, n))\n",
    "\n",
    "with open('%s_NN_scores_on_projected_data.json'%(dfname), 'w') as fp:\n",
    "    json.dump(scores, fp)"
   ]
  },
  {
   "cell_type": "code",
   "execution_count": null,
   "metadata": {},
   "outputs": [],
   "source": [
    "def plotting (title, ylabel, df, base, projections):\n",
    "    plt.figure(figsize=(20, 20))\n",
    "    fig, ax = plt.subplots()\n",
    "    for pname, p in projections:\n",
    "        ax.plot(components, df[pname], label = pname)\n",
    "    ax.axhline(base, color='navy', alpha=0.5, linestyle='--', label = 'Raw data')\n",
    "    plt.xlabel(\"Number of components\")\n",
    "    plt.ylabel(ylabel)    \n",
    "    plt.title(title)\n",
    "    ax.legend()\n",
    "    \n",
    "plotting (\"Neural Network Performance on Projected Data\", \"Three fold cross validation F1 score\", scores, raw_cv_score, projections)\n",
    "plotting (\"Neural Network Fitting Time on Projected Data\", \"Average fit time in seconds\", fit_time, raw_fit_time, projections)\n",
    "plt.show()"
   ]
  }
 ],
 "metadata": {
  "kernelspec": {
   "display_name": "Python 3",
   "language": "python",
   "name": "python3"
  },
  "language_info": {
   "codemirror_mode": {
    "name": "ipython",
    "version": 3
   },
   "file_extension": ".py",
   "mimetype": "text/x-python",
   "name": "python",
   "nbconvert_exporter": "python",
   "pygments_lexer": "ipython3",
   "version": "3.6.8"
  }
 },
 "nbformat": 4,
 "nbformat_minor": 2
}
